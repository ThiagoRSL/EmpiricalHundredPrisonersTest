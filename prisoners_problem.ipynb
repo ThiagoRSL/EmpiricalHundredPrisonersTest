{
 "cells": [
  {
   "cell_type": "markdown",
   "id": "5e6a61ee",
   "metadata": {},
   "source": [
    "In this code, each prisoner is represented by their number in a list. Each box label is represented by the index in the `boxes` list and each box number (the one that is hidden inside the box) is represented by the value of that index into the `boxes` list. \n",
    "\n",
    "In order to avoid unnecessary complications with indexing, the problem has been adapted so the prisoners numbers start from 0 instead of 1."
   ]
  },
  {
   "cell_type": "markdown",
   "id": "a3633fe5",
   "metadata": {},
   "source": [
    "First, we'll estabilish some variables: \n",
    "- `number_of_executions`: the number of executions of the problem solving attempts.\n",
    "- `prisoner_numbers`: the number of prisoners. In this case, we'll use the standard value of 100.\n",
    "- `tries_per_prisoner`: the maximum number of attempts that each prisoner has to find their number. We'll use the stadard value, which is half of the total boxes."
   ]
  },
  {
   "cell_type": "code",
   "execution_count": 13,
   "id": "ab865c86",
   "metadata": {},
   "outputs": [],
   "source": [
    "number_of_executions = 10000\n",
    "prisoner_numbers = 100\n",
    "tries_per_prisoner = 50"
   ]
  },
  {
   "cell_type": "markdown",
   "id": "f67df549",
   "metadata": {},
   "source": [
    "After that, we initialize the `prisoners` and `boxes` lists.  \n",
    "The values in the `boxes` list will be shuffled before each execution."
   ]
  },
  {
   "cell_type": "code",
   "execution_count": 14,
   "id": "b79f4950",
   "metadata": {},
   "outputs": [],
   "source": [
    "prisoners = [x for x in range(prisoner_numbers)]\n",
    "boxes = prisoners.copy()"
   ]
  },
  {
   "cell_type": "markdown",
   "id": "9dd9ae72",
   "metadata": {},
   "source": [
    "In the next cell, we define the optimal proposed algorithm to solve this problem. The logic is: \n",
    "- Each prisoner must first search in the box labeled with his/her own number\n",
    "- Then, they search on the box with the label that matches the number inside of it\n",
    "- They must keep this cycle until it finds its own number or run out of attempts.\n",
    "\n",
    "If a prisoner runs out of attempt, the execution is immediatly considered as a failure returning the False value, if all the prisoners find it's own number within the provided number of attempts, then the function returns a True value."
   ]
  },
  {
   "cell_type": "code",
   "execution_count": 15,
   "id": "62bd29f2",
   "metadata": {},
   "outputs": [],
   "source": [
    "def solve_problem_optimally(prisoners, boxes, tries_per_prisoner):\n",
    "    \n",
    "    for prisoner in prisoners:\n",
    "        remaining_tries = tries_per_prisoner\n",
    "        current_number = prisoner\n",
    "\n",
    "        while(remaining_tries > 0):\n",
    "            remaining_tries -= 1\n",
    "            current_number = boxes[current_number]\n",
    "            if boxes[current_number] == prisoner:\n",
    "                break\n",
    "\n",
    "        if remaining_tries == 0:\n",
    "            return False\n",
    "        \n",
    "    return True\n"
   ]
  },
  {
   "cell_type": "markdown",
   "id": "3e376ac9",
   "metadata": {},
   "source": [
    "Here we simulate the problem N times, each time using the optimal approach defined earlier and storing the result of each execution in a list.  \n",
    "For every simulation, the numbers inside the boxes are randomly shuffled."
   ]
  },
  {
   "cell_type": "code",
   "execution_count": 16,
   "id": "2c76e1d3",
   "metadata": {},
   "outputs": [],
   "source": [
    "import random\n",
    "\n",
    "executions = []\n",
    "\n",
    "for execution in range(number_of_executions):    \n",
    "    random.shuffle(boxes)\n",
    "    executions.append(solve_problem_optimally(prisoners, boxes, tries_per_prisoner))\n"
   ]
  },
  {
   "cell_type": "markdown",
   "id": "338bd77c",
   "metadata": {},
   "source": [
    "Finally, we compute the success and failure rates of prisoners' attempts to solve the problem.\n",
    "\n",
    "The proposed solution is stated to have approximately a 31% chance of success.\n",
    "A higher number of executions leads towards a more reliable estimate."
   ]
  },
  {
   "cell_type": "code",
   "execution_count": null,
   "id": "aaee90d2",
   "metadata": {},
   "outputs": [
    {
     "name": "stdout",
     "output_type": "stream",
     "text": [
      "prisoners Success Rate: 0.3116\n",
      "prisoners Fail Rate: 0.6884\n"
     ]
    }
   ],
   "source": [
    "print(f\"Prisoners success rate: {sum(executions)/len(executions)}\")\n",
    "print(f\"Prisoners failure rate: {1 - (sum(executions)/len(executions))}\")"
   ]
  }
 ],
 "metadata": {
  "kernelspec": {
   "display_name": "base",
   "language": "python",
   "name": "python3"
  },
  "language_info": {
   "codemirror_mode": {
    "name": "ipython",
    "version": 3
   },
   "file_extension": ".py",
   "mimetype": "text/x-python",
   "name": "python",
   "nbconvert_exporter": "python",
   "pygments_lexer": "ipython3",
   "version": "3.12.7"
  }
 },
 "nbformat": 4,
 "nbformat_minor": 5
}
